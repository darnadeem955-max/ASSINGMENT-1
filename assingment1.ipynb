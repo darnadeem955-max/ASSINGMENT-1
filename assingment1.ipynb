{
  "nbformat": 4,
  "nbformat_minor": 0,
  "metadata": {
    "colab": {
      "provenance": []
    },
    "kernelspec": {
      "name": "python3",
      "display_name": "Python 3"
    },
    "language_info": {
      "name": "python"
    }
  },
  "cells": [
    {
      "cell_type": "markdown",
      "source": [],
      "metadata": {
        "id": "2rpLaKfGX08Q"
      }
    },
    {
      "cell_type": "markdown",
      "source": [
        "#name:- mohammad nadeem\n",
        "#eamil:-darnadeem955@gamil.com"
      ],
      "metadata": {
        "id": "j27fj0V3ePnT"
      }
    },
    {
      "cell_type": "markdown",
      "source": [],
      "metadata": {
        "id": "bdukt3Y7eb_e"
      }
    },
    {
      "cell_type": "markdown",
      "source": [
        "#answer to question number1\n",
        "Python is a high-level, general-purpose programming language that is known for its readability and simplicity. Created by Guido van Rossum and first released in 1991, Python's design philosophy emphasizes code readability using significant indentation. It's an interpreted language, which means it runs code directly line by line, making it fast for testing and prototyping. Python is also a multi-paradigm language, supporting object-oriented, procedural, and functional programming. it is popular because it has unique features which includes.\n",
        "\n",
        "Simple and Easy to Learn\n",
        "Versatile and Multi-Purpose\n",
        "Web Development\n",
        "Data Science and Machine Learning etc.\n",
        "\n",
        "\n",
        "\n"
      ],
      "metadata": {
        "id": "DhGV_EphX33q"
      }
    },
    {
      "cell_type": "markdown",
      "source": [
        "# answer to question number 2\n",
        " interpreter is a translator who reads your instructions (your Python code) and immediately performs each action one by one.\n",
        "Here's the basic process:\n",
        "\n",
        "You write your Python code in a file (for example, my_program.py).\n",
        "\n",
        "When you run that file, the interpreter reads the code.\n",
        "\n",
        "It first translates the code into a simplified, intermediate language called bytecode.\n",
        "\n",
        "Then, a component called the Python Virtual Machine (PVM) takes this bytecode and executes it, converting it into instructions your computer's processor can understand.\n",
        "\n",
        "This process is why Python is considered an \"interpreted\" language and makes it very flexible and easy to us\n",
        "\n",
        "\n",
        "\n",
        "\n",
        "\n",
        "\n"
      ],
      "metadata": {
        "id": "5x-yvC0VZRm5"
      }
    },
    {
      "cell_type": "markdown",
      "source": [
        "# answer to question number3 (theory)\n",
        "In Python, pre-defined keywords are reserved words with a special meaning and function. You cannot use them as names for variables, functions, or any other identifier. They are the building blocks that define the syntax and structure of Python code.exmple true,none,is ,def etc."
      ],
      "metadata": {
        "id": "8ORvwgoqaSTH"
      }
    },
    {
      "cell_type": "markdown",
      "source": [
        "#answer to question number 4\n",
        "No, keywords cannot be used as variable names in Python. They are reserved words that have a special meaning and function in the language, so the Python interpreter won't allow you to use them for anything else. If you try, it will result in a syntax error."
      ],
      "metadata": {
        "id": "GUbPy_AcbFOS"
      }
    },
    {
      "cell_type": "markdown",
      "source": [
        "# answer to question number 5\n",
        "Mutability in Python refers to whether an object's state can be changed after it's created. In other words, a mutable object can be modified .Mutable objects can be altered after they're created. This means you can add, remove, or change their elements without creating a new object in memory.\n"
      ],
      "metadata": {
        "id": "hTr395VhbZBC"
      }
    },
    {
      "cell_type": "markdown",
      "source": [
        "#answer to question number 6\n",
        "Lists are mutable because they're designed for scenarios where you need to change or modify a collection of items in place after it's been created. Tuples, however, are immutable because they're meant to represent fixed, unchangeable collections of data. This fundamental difference in their design and purpose dictates their mutability."
      ],
      "metadata": {
        "id": "k8JtS-OjcGJq"
      }
    },
    {
      "cell_type": "markdown",
      "source": [
        "#answer to question number 7\n",
        "In Python, the == and is operators both check for equality, but they do so in different ways. The key difference is that == checks for value equality, while is checks for identity (whether two variables point to the exact same object in memory)."
      ],
      "metadata": {
        "id": "g3JXA4UfcjXb"
      }
    },
    {
      "cell_type": "markdown",
      "source": [
        "#answer to question number 8\n",
        "Logical operators in Python are symbols or keywords used to combine or modify conditional statements. They evaluate expressions and return a boolean value, which is either True or False. There are three main logical operators: and, or, and not."
      ],
      "metadata": {
        "id": "cuy6BPBadHsT"
      }
    },
    {
      "cell_type": "markdown",
      "source": [
        "#answer to question number 9\n",
        "Type casting, also known as type conversion, is the process of converting a variable from one data type to another. It's a way to change the type of a value in your code, such as converting an integer into a string or a float into an integer.\n",
        "\n",
        "\n"
      ],
      "metadata": {
        "id": "S9X0yWDqdotX"
      }
    },
    {
      "cell_type": "markdown",
      "source": [
        "#answer to question number 10\n",
        "Implicit Type Casting (Coercion)\n",
        "Implicit type casting is an automatic type conversion performed by the Python interpreter without any intervention from the programmer. This happens when Python needs to perform an operation on two different data types and automatically converts one to the other to make the operation possible.\n",
        "\n",
        "\n",
        "It's \"implicit\" because you don't write any code to do it.\n",
        "\n",
        "It only happens for safe conversions, where there is no risk of losing data.\n",
        "\n",
        "A common example is when a number is converted from an integer to a float during an operation.\n",
        "\n",
        "\n",
        "Explicit type casting is a manual type conversion that you, the programmer, explicitly instruct Python to perform using built-in functions like int(), str(), or float(). This is also known as type coercion.\n",
        "\n",
        "It's \"explicit\" because you explicitly call a function to do it.\n",
        "\n",
        "You use it when you need to change a variable's type and the conversion is not automatic.\n",
        "\n",
        "It can result in data loss if, for example, you convert a float to an integer (the decimal part is truncated)"
      ],
      "metadata": {
        "id": "ge-qmcwyeB2g"
      }
    },
    {
      "cell_type": "markdown",
      "source": [
        "#answer to question number 11\n",
        "Conditional statements in Python allow your program to make decisions and execute different blocks of code based on whether a certain condition is True or False. They are essential for controlling the flow of a program, enabling it to respond to different inputs or situations."
      ],
      "metadata": {
        "id": "1fIhmXSHep0u"
      }
    },
    {
      "cell_type": "markdown",
      "source": [
        "#answer to question number 12\n",
        "The elif statement, short for \"else if,\" is used in Python to check for an additional condition when the previous if or elif statements were False. It allows you to create a chain of conditions, where only the code block of the first condition that evaluates to True is executed."
      ],
      "metadata": {
        "id": "hRby4pY1e6vB"
      }
    },
    {
      "cell_type": "markdown",
      "source": [
        "#answer to question number 13\n",
        "for and while loops are both used for repetition in Python, but they are designed for different purposes. The key difference is that a for loop is used when you know how many times you want to loop, while a while loop is used when you want to loop until a certain condition is me"
      ],
      "metadata": {
        "id": "oBnhsMU2fOe3"
      }
    },
    {
      "cell_type": "markdown",
      "source": [
        "#answer to qustion number 14\n",
        "Imagine you need to write a program that asks a user to enter their age. The program must keep asking for input until the user enters a valid, positive number.\n",
        "\n",
        "A while loop is perfect for this task because you don't know how many times the user will enter invalid input. The loop continues to run while the input is invalid.\n",
        "\n"
      ],
      "metadata": {
        "id": "1qhtE4WVfitl"
      }
    },
    {
      "cell_type": "code",
      "source": [
        "#answer to question number 1\n",
        "user_input = input(\"Please enter something here: \")\n",
        "print(\"You entered:\", user_input)"
      ],
      "metadata": {
        "colab": {
          "base_uri": "https://localhost:8080/"
        },
        "id": "DzUK8cisf-7B",
        "outputId": "ea03179d-6758-4e7e-969e-c7a0919beb9d"
      },
      "execution_count": null,
      "outputs": [
        {
          "output_type": "stream",
          "name": "stdout",
          "text": [
            "Please enter something here: hello world\n",
            "You entered: hello world\n"
          ]
        }
      ]
    },
    {
      "cell_type": "code",
      "source": [
        "#answer to qestion number 2\n",
        "name=input(\"enter your name\")\n",
        "age=input(\"enter your age\")\n"
      ],
      "metadata": {
        "colab": {
          "base_uri": "https://localhost:8080/"
        },
        "id": "VSzRlzxrhjCP",
        "outputId": "21114bfb-7a71-43d9-e1ee-354264512c78"
      },
      "execution_count": null,
      "outputs": [
        {
          "name": "stdout",
          "output_type": "stream",
          "text": [
            "enter your namenadeem\n",
            "enter your age29\n"
          ]
        }
      ]
    },
    {
      "cell_type": "code",
      "source": [
        "#answer to question number 3\n",
        "import keyword\n",
        "print(keyword.kwlist)"
      ],
      "metadata": {
        "colab": {
          "base_uri": "https://localhost:8080/"
        },
        "id": "AmNblZ_kn3ln",
        "outputId": "faa5f836-05fb-4b68-f459-cd15690193c0"
      },
      "execution_count": null,
      "outputs": [
        {
          "output_type": "stream",
          "name": "stdout",
          "text": [
            "['False', 'None', 'True', 'and', 'as', 'assert', 'async', 'await', 'break', 'class', 'continue', 'def', 'del', 'elif', 'else', 'except', 'finally', 'for', 'from', 'global', 'if', 'import', 'in', 'is', 'lambda', 'nonlocal', 'not', 'or', 'pass', 'raise', 'return', 'try', 'while', 'with', 'yield']\n"
          ]
        }
      ]
    },
    {
      "cell_type": "code",
      "source": [
        "#answer to question number 4\n",
        "word = input(\"Enter a word: \")\n",
        "if word in keyword.kwlist:\n",
        "  print(f\"{word} is a keyword.\")\n",
        "else:\n",
        "  print(f\"{word} is not a keyword.\")"
      ],
      "metadata": {
        "colab": {
          "base_uri": "https://localhost:8080/"
        },
        "id": "1-oVwEP0odBA",
        "outputId": "26aaa017-ebe3-45f6-e058-c1b9115442be"
      },
      "execution_count": null,
      "outputs": [
        {
          "output_type": "stream",
          "name": "stdout",
          "text": [
            "Enter a word: in\n",
            "in is a keyword.\n"
          ]
        }
      ]
    },
    {
      "cell_type": "code",
      "source": [
        "#answer to question number 11\n",
        "num = float(input(\"Enter a number: \"))\n",
        "\n",
        "if num > 0:\n",
        "    print(\"The number is positive.\")\n",
        "elif num < 0:\n",
        "    print(\"The number is negative.\")\n",
        "else:\n",
        "    print(\"The number is zero.\")"
      ],
      "metadata": {
        "id": "igejdA1CvKGV"
      },
      "execution_count": null,
      "outputs": []
    },
    {
      "cell_type": "code",
      "source": [
        "#answer to question number 12\n",
        "for i in range(1, 11):\n",
        "    print(i)"
      ],
      "metadata": {
        "id": "VCewq91cvp_C"
      },
      "execution_count": null,
      "outputs": []
    },
    {
      "cell_type": "code",
      "source": [
        "#answer to question number 13\n",
        "total = 0\n",
        "for number in range(1, 51):\n",
        "    if number % 2 == 0:\n",
        "      # Check if the number is even\n",
        "        total += number\n",
        "print(f\"The sum of all even numbers between 1 and 50 is: {total}\")"
      ],
      "metadata": {
        "id": "LnEbrvkqwOVX"
      },
      "execution_count": null,
      "outputs": []
    },
    {
      "cell_type": "code",
      "source": [
        "#answer to question number 14\n",
        "input_string = input(\"Enter a string to reverse: \")\n",
        "reversed_string = \"\"\n",
        "index = len(input_string) - 1\n",
        "\n",
        "while index >= 0:\n",
        "    reversed_string += input_string[index]\n",
        "    index -= 1\n",
        "\n",
        "print(f\"The reversed string is: {reversed_string}\""
      ],
      "metadata": {
        "id": "lw_hC89VweuL"
      },
      "execution_count": null,
      "outputs": []
    },
    {
      "cell_type": "code",
      "source": [
        "#answer to question number 5\n",
        "# List (Mutable)\n",
        "my_list = [10, 20, 30]\n",
        "print(f\"Original list: {my_list}\")\n",
        "my_list[1] = 99  # This works\n",
        "print(f\"Modified list: {my_list}\")\n",
        "\n",
        "print(\"-\" * 20)\n",
        "\n",
        "# Tuple (Immutable)\n",
        "my_tuple = (10, 20, 30)\n",
        "print(f\"Original tuple: {my_tuple}\")\n",
        "try:\n",
        "    my_tuple[1] = 99  # This will cause an error\n",
        "except TypeError as e:\n",
        "    print(f\"Error: {e}\")"
      ],
      "metadata": {
        "id": "Fqhi61MVxg5J"
      },
      "execution_count": null,
      "outputs": []
    },
    {
      "cell_type": "code",
      "source": [
        "#answer to question number 6\n",
        "def modify_list(items):\n",
        "    items.append(\"new_item\")\n",
        "\n",
        "def modify_string(text):\n",
        "    text = \"new_string\"\n",
        "\n",
        "my_list = [\"old_item\"]\n",
        "my_string = \"old_string\"\n",
        "\n",
        "modify_list(my_list)\n",
        "print(f\"After function call, list is: {my_list}\") # List is changed\n",
        "\n",
        "modify_string(my_string)\n",
        "print(f\"After function call, string is: {my_string}\") # String is unchanged\n"
      ],
      "metadata": {
        "id": "gt8kgIAzxshZ"
      },
      "execution_count": null,
      "outputs": []
    },
    {
      "cell_type": "code",
      "source": [
        "#answer to question number 7\n",
        "try:\n",
        "    num1 = float(input(\"Enter the first number: \"))\n",
        "    num2 = float(input(\"Enter the second number: \"))\n",
        "\n",
        "    print(f\"\\nAddition: {num1 + num2}\")\n",
        "    print(f\"Subtraction: {num1 - num2}\")\n",
        "    print(f\"Multiplication: {num1 * num2}\")\n",
        "\n",
        "    if num2 != 0:\n",
        "        print(f\"Division: {num1 / num2}\")\n",
        "    else:\n",
        "        print(\"Division by zero is not allowed.\")\n",
        "except ValueError:\n",
        "    print(\"Invalid input. Please enter numbers only.\")\n"
      ],
      "metadata": {
        "id": "XJPV-IMzx6r4"
      },
      "execution_count": null,
      "outputs": []
    },
    {
      "cell_type": "code",
      "source": [
        "#answer to question number 8\n",
        "age = int(input(\"Enter your age: \"))\n",
        "is_student = input(\"Are you a student? (yes/no): \").lower() == 'yes'\n",
        "\n",
        "if age >= 18 and not is_student:\n",
        "    print(\"You are an adult who is not a student.\")\n",
        "elif age < 18 or is_student:\n",
        "    print(\"You are a minor or a student.\")\n",
        "else:\n",
        "    print(\"You are an adult and a student.\""
      ],
      "metadata": {
        "id": "mknLWPkiyMOC"
      },
      "execution_count": null,
      "outputs": []
    },
    {
      "cell_type": "code",
      "source": [
        "# answer to question number 9\n",
        " #Convert to Integer\n",
        "num_str = input(\"Enter a whole number: \")\n",
        "try:\n",
        "    print(f\"Converted to integer: {int(num_str)}\")\n",
        "except ValueError:\n",
        "    print(\"Invalid input for integer.\")\n",
        "\n",
        "# Convert to Float\n",
        "float_str = input(\"Enter a decimal number: \")\n",
        "try:\n",
        "    print(f\"Converted to float: {float(float_str)}\")\n",
        "except ValueError:\n",
        "    print(\"Invalid input for float.\")\n",
        "\n",
        "# Convert to Boolean\n",
        "bool_str = input(\"Enter any text for boolean conversion: \")\n",
        "print(f\"Converted to boolean: {bool(bool_str)}\")"
      ],
      "metadata": {
        "id": "8e7wBzrPyV91"
      },
      "execution_count": null,
      "outputs": []
    },
    {
      "cell_type": "code",
      "source": [
        "#answer to question number 10\n",
        "string_list = [\"10\", \"20.5\", \"30\"]\n",
        "print(f\"Original list: {string_list}\")\n",
        "\n",
        "# Cast to a list of floats\n",
        "float_list = [float(item) for item in string_list]\n",
        "print(f\"List of floats: {float_list}\")\n",
        "\n",
        "# Cast to a list of integers\n",
        "int_list = [int(float(item)) for item in string_list]\n",
        "print(f\"List of integers: {int_list}\")"
      ],
      "metadata": {
        "id": "QvAlq7mKyiF1"
      },
      "execution_count": null,
      "outputs": []
    }
  ]
}